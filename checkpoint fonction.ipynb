{
 "cells": [
  {
   "cell_type": "code",
   "execution_count": 1,
   "id": "85762158",
   "metadata": {},
   "outputs": [
    {
     "data": {
      "text/plain": [
       "35"
      ]
     },
     "execution_count": 1,
     "metadata": {},
     "output_type": "execute_result"
    }
   ],
   "source": [
    "def maxe(a,b,c):\n",
    "    if a>b and a>c:\n",
    "        return a\n",
    "    elif b>a and b>c:\n",
    "        return b\n",
    "    else:\n",
    "        return c\n",
    "maxe(20, 35, 19)\n",
    "    "
   ]
  },
  {
   "cell_type": "code",
   "execution_count": 2,
   "id": "ab884e00",
   "metadata": {},
   "outputs": [
    {
     "name": "stdout",
     "output_type": "stream",
     "text": [
      "(50, 30)\n"
     ]
    }
   ],
   "source": [
    "def calcul(a,b):\n",
    "    ad=a+b\n",
    "    su=a-b\n",
    "    return ad,su\n",
    "print (calcul(40, 10))"
   ]
  },
  {
   "cell_type": "code",
   "execution_count": 5,
   "id": "a74d5cc0",
   "metadata": {
    "scrolled": true
   },
   "outputs": [
    {
     "name": "stdout",
     "output_type": "stream",
     "text": [
      "50\n"
     ]
    }
   ],
   "source": [
    "def add(liste):\n",
    "    ad=0\n",
    "    for i in liste:\n",
    "        ad = ad+i\n",
    "    return ad\n",
    "l = [2,3,4,6]\n",
    "print (add(l))"
   ]
  },
  {
   "cell_type": "code",
   "execution_count": 2,
   "id": "34c11ddb",
   "metadata": {},
   "outputs": [
    {
     "name": "stdout",
     "output_type": "stream",
     "text": [
      "The capitalized string is: Moncef boutaleb\n"
     ]
    }
   ],
   "source": [
    "string=\"moncef boutaleb\"\n",
    "cap_string= string.capitalize()\n",
    "print(\"The capitalized string is:\", cap_string)"
   ]
  },
  {
   "cell_type": "code",
   "execution_count": 4,
   "id": "34d7d690",
   "metadata": {},
   "outputs": [
    {
     "name": "stdout",
     "output_type": "stream",
     "text": [
      "{'nom': 'Moncef'}\n"
     ]
    }
   ],
   "source": [
    "mon_dict = {\"nom\": \"Moncef\", \"prenom\": \"boutaleb\"}\n",
    "del mon_dict[\"prenom\"]\n",
    "print(mon_dict)\n"
   ]
  },
  {
   "cell_type": "code",
   "execution_count": 8,
   "id": "a8fabed2",
   "metadata": {},
   "outputs": [
    {
     "name": "stdout",
     "output_type": "stream",
     "text": [
      "Salam Yassir, comment vas-tu ?\n"
     ]
    }
   ],
   "source": [
    ">>> prenom = \"Yassir\"\n",
    ">>> texte = \"Salam \" + prenom + \", comment vas-tu ?\"\n",
    ">>> print(texte)"
   ]
  }
 ],
 "metadata": {
  "kernelspec": {
   "display_name": "Python 3 (ipykernel)",
   "language": "python",
   "name": "python3"
  },
  "language_info": {
   "codemirror_mode": {
    "name": "ipython",
    "version": 3
   },
   "file_extension": ".py",
   "mimetype": "text/x-python",
   "name": "python",
   "nbconvert_exporter": "python",
   "pygments_lexer": "ipython3",
   "version": "3.9.13"
  }
 },
 "nbformat": 4,
 "nbformat_minor": 5
}
