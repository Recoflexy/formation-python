{
 "cells": [
  {
   "cell_type": "markdown",
   "id": "9db7f733",
   "metadata": {},
   "source": [
    "# question 1"
   ]
  },
  {
   "cell_type": "code",
   "execution_count": 22,
   "id": "a283366c",
   "metadata": {},
   "outputs": [
    {
     "name": "stdout",
     "output_type": "stream",
     "text": [
      "36\n"
     ]
    }
   ],
   "source": [
    "t=[2,3,6]\n",
    "some=1\n",
    "for i in t:\n",
    "    some=some*i\n",
    "print(some)"
   ]
  },
  {
   "cell_type": "markdown",
   "id": "64f3d444",
   "metadata": {},
   "source": [
    "# question 2"
   ]
  },
  {
   "cell_type": "code",
   "execution_count": 23,
   "id": "33d5c598",
   "metadata": {},
   "outputs": [
    {
     "name": "stdout",
     "output_type": "stream",
     "text": [
      "[(2, 1), (1, 2), (2, 3), (4, 4), (2, 5)]\n"
     ]
    }
   ],
   "source": [
    "def get(x):\n",
    "    return x[1]\n",
    "T=[(2, 5), (1, 2), (4, 4), (2, 3), (2, 1)]\n",
    "T.sort(key=get)\n",
    "print (T)"
   ]
  },
  {
   "cell_type": "markdown",
   "id": "0fc2a326",
   "metadata": {},
   "source": [
    "# question 3"
   ]
  },
  {
   "cell_type": "code",
   "execution_count": 11,
   "id": "fbb9b86a",
   "metadata": {},
   "outputs": [
    {
     "name": "stdout",
     "output_type": "stream",
     "text": [
      "{'a': 400, 'b': 400, 'c': 300, 'd': 400}\n"
     ]
    }
   ],
   "source": [
    "d1 = {'a': 100, 'b': 200, 'c':300}\n",
    "\n",
    "d2 = {'a': 300, 'b': 200, 'd':400}\n",
    "\n",
    "d3 = {}\n",
    "\n",
    "for key1,key2 in zip(d1.keys(),d2.keys()):\n",
    "    if key1 == key2:\n",
    "        d3[key1] = d1[key1]+d2[key2]\n",
    "    else:\n",
    "        d3[key1] = d1[key1]\n",
    "        d3[key2] = d2[key2]\n",
    "print(d3)"
   ]
  },
  {
   "cell_type": "markdown",
   "id": "922a96a9",
   "metadata": {},
   "source": [
    "# question 4"
   ]
  },
  {
   "cell_type": "code",
   "execution_count": 23,
   "id": "76f18677",
   "metadata": {},
   "outputs": [
    {
     "name": "stdout",
     "output_type": "stream",
     "text": [
      "{1: 1, 2: 4, 3: 9, 4: 16, 5: 25, 6: 36, 7: 49, 8: 64}\n"
     ]
    }
   ],
   "source": [
    "n = 8\n",
    "d = {}\n",
    "for i in range(1,n+1,1):\n",
    "    d[i] = i*i\n",
    "print (d)\n",
    "    "
   ]
  },
  {
   "cell_type": "markdown",
   "id": "322e5691",
   "metadata": {},
   "source": [
    "# question5"
   ]
  },
  {
   "cell_type": "code",
   "execution_count": 24,
   "id": "66577efe",
   "metadata": {},
   "outputs": [
    {
     "name": "stdout",
     "output_type": "stream",
     "text": [
      "[('item3', '24.5'), ('item2', '15.10'), ('item1', '12.20')]\n"
     ]
    }
   ],
   "source": [
    "list1= [('item1', '12.20'), ('item2', '15.10'), ('item3', '24.5')]\n",
    "def get(x):\n",
    "    return float(x[1])\n",
    "list1.sort(key = get,reverse=True)\n",
    "print(list1)"
   ]
  },
  {
   "cell_type": "markdown",
   "id": "054d1579",
   "metadata": {},
   "source": [
    "# question 6\n"
   ]
  },
  {
   "cell_type": "code",
   "execution_count": 28,
   "id": "c63c4433",
   "metadata": {},
   "outputs": [
    {
     "name": "stdout",
     "output_type": "stream",
     "text": [
      "2\n",
      "4\n",
      "5\n",
      "6\n"
     ]
    }
   ],
   "source": [
    "m={2,4,5,6}\n",
    "for val in m:\n",
    "    print (val)\n",
    "\n"
   ]
  },
  {
   "cell_type": "code",
   "execution_count": null,
   "id": "524929b3",
   "metadata": {},
   "outputs": [],
   "source": []
  }
 ],
 "metadata": {
  "kernelspec": {
   "display_name": "Python 3 (ipykernel)",
   "language": "python",
   "name": "python3"
  },
  "language_info": {
   "codemirror_mode": {
    "name": "ipython",
    "version": 3
   },
   "file_extension": ".py",
   "mimetype": "text/x-python",
   "name": "python",
   "nbconvert_exporter": "python",
   "pygments_lexer": "ipython3",
   "version": "3.9.13"
  }
 },
 "nbformat": 4,
 "nbformat_minor": 5
}
